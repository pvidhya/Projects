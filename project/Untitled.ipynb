{
 "cells": [
  {
   "cell_type": "code",
   "execution_count": 12,
   "metadata": {
    "collapsed": true
   },
   "outputs": [],
   "source": [
    "import os"
   ]
  },
  {
   "cell_type": "code",
   "execution_count": 14,
   "metadata": {
    "collapsed": false
   },
   "outputs": [
    {
     "name": "stdout",
     "output_type": "stream",
     "text": [
      "anger, fear : 134\n",
      "confused : 108\n",
      "congratulating, appreciating : 140\n",
      "general : 198\n",
      "happy general : 121\n",
      "happy, personal, excited : 158\n",
      "sad : 86\n"
     ]
    }
   ],
   "source": [
    "\n",
    "def count_classifier(path):\n",
    "    \n",
    "    file_list=[]\n",
    "    k=os.listdir(path)\n",
    "    num_list=[]\n",
    "    for t in k:\n",
    "        if t.endswith('.txt'):\n",
    "            file_list.append(t)\n",
    "    for k in file_list:\n",
    "        with open(path+os.sep+k) as f:\n",
    "            p=f.read().count('<endofTweet>')\n",
    "            \n",
    "            num_list.append(p)\n",
    "        \n",
    "    return num_list,file_list\n",
    "path='data'\n",
    "num_list,file_list=count_classifier(path)\n",
    "for m in range(len(num_list)):\n",
    "    \n",
    "    print file_list[m].split('.txt')[0]+' : '+'%d'%num_list[m]\n",
    "#print min(num_list)"
   ]
  },
  {
   "cell_type": "code",
   "execution_count": null,
   "metadata": {
    "collapsed": true
   },
   "outputs": [],
   "source": []
  }
 ],
 "metadata": {
  "kernelspec": {
   "display_name": "Python 2",
   "language": "python",
   "name": "python2"
  },
  "language_info": {
   "codemirror_mode": {
    "name": "ipython",
    "version": 2
   },
   "file_extension": ".py",
   "mimetype": "text/x-python",
   "name": "python",
   "nbconvert_exporter": "python",
   "pygments_lexer": "ipython2",
   "version": "2.7.10"
  }
 },
 "nbformat": 4,
 "nbformat_minor": 0
}
