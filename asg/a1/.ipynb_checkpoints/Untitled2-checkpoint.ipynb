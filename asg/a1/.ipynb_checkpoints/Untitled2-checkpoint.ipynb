{
 "cells": [
  {
   "cell_type": "code",
   "execution_count": 1,
   "metadata": {
    "collapsed": false
   },
   "outputs": [
    {
     "name": "stdout",
     "output_type": "stream",
     "text": [
      "123\n"
     ]
    }
   ],
   "source": [
    "print \"123\"\n"
   ]
  },
  {
   "cell_type": "code",
   "execution_count": 2,
   "metadata": {
    "collapsed": true
   },
   "outputs": [],
   "source": [
    "# Imports you'll need.\n",
    "from collections import Counter\n",
    "import ConfigParser\n",
    "import matplotlib.pyplot as plt\n",
    "import networkx as nx\n",
    "import sys\n",
    "import time\n",
    "from TwitterAPI import TwitterAPI\n",
    "\n",
    "%matplotlib inline"
   ]
  },
  {
   "cell_type": "code",
   "execution_count": 3,
   "metadata": {
    "collapsed": false
   },
   "outputs": [
    {
     "name": "stdout",
     "output_type": "stream",
     "text": [
      "Established Twitter connection.\n"
     ]
    }
   ],
   "source": [
    "# This method is done for you. Make sure to put your credentials in twitter.cfg.\n",
    "def get_twitter(config_file):\n",
    "    \"\"\" Read the config_file and construct an instance of TwitterAPI.\n",
    "    Args:\n",
    "      config_file ... A config file in ConfigParser format with Twitter credentials\n",
    "    Returns:\n",
    "      An instance of TwitterAPI.\n",
    "    \"\"\"\n",
    "    config = ConfigParser.ConfigParser()\n",
    "    config.read(config_file)\n",
    "    twitter = TwitterAPI(\n",
    "                   config.get('twitter', 'consumer_key'),\n",
    "                   config.get('twitter', 'consumer_secret'),\n",
    "                   config.get('twitter', 'access_token'),\n",
    "                   config.get('twitter', 'access_token_secret'))\n",
    "    return twitter\n",
    "\n",
    "twitter = get_twitter('twitter.cfg')\n",
    "print('Established Twitter connection.')"
   ]
  },
  {
   "cell_type": "code",
   "execution_count": 4,
   "metadata": {
    "collapsed": false
   },
   "outputs": [
    {
     "name": "stdout",
     "output_type": "stream",
     "text": [
      "Read 15 candidates\n",
      "('HillaryClinton', 'D')\n",
      "('BernieSanders', 'D')\n",
      "('MartinOMalley', 'D')\n",
      "('JoeBiden', 'D')\n",
      "('JimWebbUSA', 'D')\n",
      "('realDonaldTrump', 'R')\n",
      "('JebBush', 'R')\n",
      "('RealBenCarson', 'R')\n",
      "('marcorubio', 'R')\n",
      "('ScottWalker', 'R')\n",
      "('tedcruz', 'R')\n",
      "('CarlyFiorina', 'R')\n",
      "('GovMikeHuckabee', 'R')\n",
      "('govchristie', 'R')\n",
      "('DrRandPaul', 'R')\n"
     ]
    }
   ],
   "source": [
    "def read_candidates(filename):\n",
    "    f = open('candidates.txt', 'r')\n",
    "    candidates = []\n",
    "    count = 0\n",
    "    for line in f: \n",
    "        temp =  line.strip('\\n').split(' ')\n",
    "        if count%2 == 0:\n",
    "            candidates.append(tuple(temp))\n",
    "        count += 1\n",
    "\n",
    "    return candidates\n",
    "        \n",
    "\n",
    "candidates = read_candidates('candidates.txt')  \n",
    "print('Read %d candidates' % len(candidates))\n",
    "print('\\n'.join(str(x) for x in candidates))"
   ]
  },
  {
   "cell_type": "code",
   "execution_count": 6,
   "metadata": {
    "collapsed": false
   },
   "outputs": [
    {
     "name": "stdout",
     "output_type": "stream",
     "text": [
      "10 republicans, 5 democrats\n"
     ]
    }
   ],
   "source": [
    "# separate candidates by party.\n",
    "republicans = [c[0] for c in candidates if c[1] == 'R']\n",
    "democrats = [c[0] for c in candidates if c[1] == 'D']\n",
    "print('%d republicans, %d democrats' % (len(republicans), len(democrats)))"
   ]
  },
  {
   "cell_type": "code",
   "execution_count": 7,
   "metadata": {
    "collapsed": true
   },
   "outputs": [],
   "source": [
    "def robust_request(twitter, resource, params, max_tries=10):\n",
    "    \n",
    "    for i in range(max_tries):\n",
    "        request = twitter.request(resource, params)\n",
    "        if request.status_code == 200:\n",
    "            return request\n",
    "        else:\n",
    "            print >> sys.stderr, 'Got error:', request.text, '\\nsleeping for 15 minutes.'\n",
    "            sys.stderr.flush()\n",
    "            time.sleep(61 * 1)"
   ]
  },
  {
   "cell_type": "code",
   "execution_count": 24,
   "metadata": {
    "collapsed": false
   },
   "outputs": [],
   "source": [
    "def get_friends(screen_name):\n",
    "    print ('fetching friends for %s' % (screen_name))\n",
    "    data = [i for i in  robust_request(twitter,'friends/list',{'screen_name' : screen_name, 'count':200})]\n",
    "    temp =[]\n",
    "    for i in range(len(data)):\n",
    "        s_name = data[i][\"screen_name\"]\n",
    "        temp.append(str(s_name))\n",
    "    return temp\n"
   ]
  },
  {
   "cell_type": "code",
   "execution_count": 25,
   "metadata": {
    "collapsed": false
   },
   "outputs": [],
   "source": [
    "def get_all_friends(screen_name):\n",
    "    \"\"\" Get the friends for all the users in usernames.\n",
    "    I.e., call get_friends for all 15 candidates.\n",
    "    Args:\n",
    "        screen_names: a list of Twitter screen names, one per candidate\n",
    "    Returns:\n",
    "        a dict mapping each candidate's username (string) to a list of his/her friends (strings)\n",
    "    \"\"\"\n",
    "    return {n: get_friends(n) for n in screen_name}"
   ]
  },
  {
   "cell_type": "code",
   "execution_count": null,
   "metadata": {
    "collapsed": false
   },
   "outputs": [],
   "source": [
    "candidate2friends = get_all_friends(c[0] for c in candidates)"
   ]
  },
  {
   "cell_type": "code",
   "execution_count": null,
   "metadata": {
    "collapsed": true
   },
   "outputs": [],
   "source": [
    "def print_num_friends(candidate2friends):\n",
    "    cand_names = list(candidate2friends.keys())\n",
    "    cand_names.sort()\n",
    "    for i in cand_names:\n",
    "        print ('%s %s'%(i,len(candidate2friends[i])))"
   ]
  }
 ],
 "metadata": {
  "kernelspec": {
   "display_name": "Python 2",
   "language": "python",
   "name": "python2"
  },
  "language_info": {
   "codemirror_mode": {
    "name": "ipython",
    "version": 2
   },
   "file_extension": ".py",
   "mimetype": "text/x-python",
   "name": "python",
   "nbconvert_exporter": "python",
   "pygments_lexer": "ipython2",
   "version": "2.7.10"
  }
 },
 "nbformat": 4,
 "nbformat_minor": 0
}
