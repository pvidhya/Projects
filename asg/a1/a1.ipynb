{
 "cells": [
  {
   "cell_type": "code",
   "execution_count": 1,
   "metadata": {
    "collapsed": true
   },
   "outputs": [],
   "source": [
    "# Imports you'll need.\n",
    "from collections import Counter\n",
    "import ConfigParser\n",
    "import matplotlib.pyplot as plt\n",
    "import networkx as nx\n",
    "import sys\n",
    "import time\n",
    "from TwitterAPI import TwitterAPI\n",
    "\n",
    "%matplotlib inline"
   ]
  },
  {
   "cell_type": "code",
   "execution_count": 2,
   "metadata": {
    "collapsed": false
   },
   "outputs": [
    {
     "name": "stdout",
     "output_type": "stream",
     "text": [
      "Established Twitter connection.\n"
     ]
    }
   ],
   "source": [
    "# This method is done for you. Make sure to put your credentials in twitter.cfg.\n",
    "def get_twitter(config_file):\n",
    "    \"\"\" Read the config_file and construct an instance of TwitterAPI.\n",
    "    Args:\n",
    "      config_file ... A config file in ConfigParser format with Twitter credentials\n",
    "    Returns:\n",
    "      An instance of TwitterAPI.\n",
    "    \"\"\"\n",
    "    config = ConfigParser.ConfigParser()\n",
    "    config.read(config_file)\n",
    "    twitter = TwitterAPI(\n",
    "                   config.get('twitter', 'consumer_key'),\n",
    "                   config.get('twitter', 'consumer_secret'),\n",
    "                   config.get('twitter', 'access_token'),\n",
    "                   config.get('twitter', 'access_token_secret'))\n",
    "    return twitter\n",
    "\n",
    "twitter = get_twitter('twitter.cfg')\n",
    "print('Established Twitter connection.')\n"
   ]
  },
  {
   "cell_type": "code",
   "execution_count": 3,
   "metadata": {
    "collapsed": false
   },
   "outputs": [
    {
     "name": "stdout",
     "output_type": "stream",
     "text": [
      "Read 15 candidates\n",
      "('HillaryClinton', 'D')\n",
      "('BernieSanders', 'D')\n",
      "('MartinOMalley', 'D')\n",
      "('JoeBiden', 'D')\n",
      "('JimWebbUSA', 'D')\n",
      "('realDonaldTrump', 'R')\n",
      "('JebBush', 'R')\n",
      "('RealBenCarson', 'R')\n",
      "('marcorubio', 'R')\n",
      "('ScottWalker', 'R')\n",
      "('tedcruz', 'R')\n",
      "('CarlyFiorina', 'R')\n",
      "('GovMikeHuckabee', 'R')\n",
      "('govchristie', 'R')\n",
      "('DrRandPaul', 'R')\n"
     ]
    }
   ],
   "source": [
    "def read_candidates(filename):\n",
    "    f = open('candidates.txt', 'r')\n",
    "    candidates = []\n",
    "    count = 0\n",
    "    for line in f: \n",
    "        temp =  line.strip('\\n').split(' ')\n",
    "        if count%2 == 0:\n",
    "            candidates.append(tuple(temp))\n",
    "        count += 1\n",
    "\n",
    "    return candidates\n",
    "        \n",
    "\n",
    "candidates = read_candidates('candidates.txt')  \n",
    "print('Read %d candidates' % len(candidates))\n",
    "print('\\n'.join(str(x) for x in candidates))"
   ]
  },
  {
   "cell_type": "code",
   "execution_count": 4,
   "metadata": {
    "collapsed": false
   },
   "outputs": [
    {
     "name": "stdout",
     "output_type": "stream",
     "text": [
      "10 republicans, 5 democrats\n"
     ]
    }
   ],
   "source": [
    "# separate candidates by party.\n",
    "republicans = [c[0] for c in candidates if c[1] == 'R']\n",
    "democrats = [c[0] for c in candidates if c[1] == 'D']\n",
    "print('%d republicans, %d democrats' % (len(republicans), len(democrats)))"
   ]
  },
  {
   "cell_type": "code",
   "execution_count": 5,
   "metadata": {
    "collapsed": true
   },
   "outputs": [],
   "source": [
    "def robust_request(twitter, resource, params, max_tries=10):\n",
    "    \n",
    "    for i in range(max_tries):\n",
    "        request = twitter.request(resource, params)\n",
    "        if request.status_code == 200:\n",
    "            return request\n",
    "        else:\n",
    "            print >> sys.stderr, 'Got error:', request.text, '\\nsleeping for 15 minutes.'\n",
    "            sys.stderr.flush()\n",
    "            time.sleep(61 * 15)"
   ]
  },
  {
   "cell_type": "code",
   "execution_count": 6,
   "metadata": {
    "collapsed": false
   },
   "outputs": [],
   "source": [
    "def get_friends(screen_name):\n",
    "    print ('fetching friends for %s' % (screen_name))\n",
    "    \n",
    "    temp =[]\n",
    "    request = robust_request(twitter,'friends/list',{'screen_name' : screen_name, 'count':200})\n",
    "    followers = [i for i in request]\n",
    "    for i in range(len(followers)):\n",
    "        temp.append(followers[i]['screen_name'])\n",
    "    return temp\n"
   ]
  },
  {
   "cell_type": "code",
   "execution_count": null,
   "metadata": {
    "collapsed": true
   },
   "outputs": [],
   "source": [
    "def get_all_friends(screen_name):\n",
    "    \"\"\" Get the friends for all the users in usernames.\n",
    "    I.e., call get_friends for all 15 candidates.\n",
    "    Args:\n",
    "        screen_names: a list of Twitter screen names, one per candidate\n",
    "    Returns:\n",
    "        a dict mapping each candidate's username (string) to a list of his/her friends (strings)\n",
    "    \"\"\"\n",
    "    return {n: get_friends(n) for n in screen_name}"
   ]
  },
  {
   "cell_type": "code",
   "execution_count": null,
   "metadata": {
    "collapsed": false,
    "scrolled": true
   },
   "outputs": [
    {
     "name": "stderr",
     "output_type": "stream",
     "text": [
      "Got error: {\"errors\":[{\"message\":\"Rate limit exceeded\",\"code\":88}]} \n",
      "sleeping for 15 minutes.\n"
     ]
    }
   ],
   "source": [
    "candidate2friends = get_all_friends(c[0] for c in candidates)\n"
   ]
  },
  {
   "cell_type": "code",
   "execution_count": null,
   "metadata": {
    "collapsed": false
   },
   "outputs": [],
   "source": [
    "#print candidate2friends\n",
    "\n",
    "def print_num_friends(candidate2friends):\n",
    "    cand_names = list(candidate2friends.keys())\n",
    "    cand_names.sort()\n",
    "    for i in cand_names:\n",
    "        \n",
    "        print ('%s %s'%(i,len(candidate2friends[i])))\n",
    "        \n",
    "print_num_friends(candidate2friends)    \n",
    "        \n"
   ]
  },
  {
   "cell_type": "code",
   "execution_count": null,
   "metadata": {
    "collapsed": false
   },
   "outputs": [],
   "source": [
    "# Who is the most popular friend? (i.e., which friend is followed by the most number of candidates?\n",
    "def count_friends(candidate2friends):\n",
    "    \"\"\" Count how often each friend is followed.\n",
    "    Args:\n",
    "        candidate2friends: a dict mapping each candidate to a list of friends\n",
    "    Returns:\n",
    "        a Counter object mapping each friend to the number of candidates who follow them.\n",
    "        Counter documentation: https://docs.python.org/dev/library/collections.html#collections.Counter\n",
    "    \"\"\"\n",
    "    # TODO\n",
    "    dict = {}\n",
    "\n",
    "    k = list(candidate2friends.keys())\n",
    "    for i in k:\n",
    "        friends = candidate2friends[i]\n",
    "        for c in friends:\n",
    "            if c not in list(dict.keys()):\n",
    "                dict[c] = 1\n",
    "            else:\n",
    "                dict[c] += 1\n",
    "\n",
    "\n",
    "    c = Counter(dict) \n",
    "    return c\n",
    "\n",
    "\n",
    "friend_counts = count_friends(candidate2friends)\n",
    "print friend_counts.most_common(5)"
   ]
  },
  {
   "cell_type": "code",
   "execution_count": null,
   "metadata": {
    "collapsed": false
   },
   "outputs": [],
   "source": [
    "print('popular Republican friends:')\n",
    "republican_counts = count_friends({k: v for k, v in candidate2friends.items() if k in republicans})\n",
    "print republican_counts.most_common(5)\n",
    "\n",
    "print('popular Democrat friends:')\n",
    "democrat_counts = count_friends({k: v for k, v in candidate2friends.items() if k in democrats})\n",
    "print democrat_counts.most_common(5)"
   ]
  },
  {
   "cell_type": "code",
   "execution_count": null,
   "metadata": {
    "collapsed": false
   },
   "outputs": [],
   "source": [
    "# Do any candidates from one party actually follow a candidate from another party?\n",
    "def bipartisan_count(republicans, democrats, candidate2friends):\n",
    "    print('How many Democrats does each Republican follow?')        \n",
    "    for r in republicans:\n",
    "        print('%20s %d' % (r, len(set(democrats) & set(candidate2friends[r]))))\n",
    "    print('How many Republicans does each Democrat follow?')        \n",
    "    for d in democrats:\n",
    "        print('%20s %d' % (d, len(set(republicans) & set(candidate2friends[d]))))\n",
    "\n",
    "bipartisan_count(republicans, democrats, candidate2friends)"
   ]
  },
  {
   "cell_type": "code",
   "execution_count": null,
   "metadata": {
    "collapsed": false
   },
   "outputs": [],
   "source": [
    "\"\"\"\n",
    "Since there's no direct links between Republicans and Democrats, we propose a different measure.\n",
    "For each Republican, we cound the number of friends they have that are followed by at least one Democrat.\n",
    "E.g., If JebBush(R) follows one user, POTUS, and HillaryClinton(D) also follows POTUS, then JebBush will have score 1.\n",
    "\"\"\"\n",
    "def score_republicans(republicans, democrat_counts, candidate2friends):\n",
    "    \"\"\"\n",
    "    Args:\n",
    "        republicans...list of strings, one per Republican\n",
    "        democrat_counts...string-int dict mapping each friend to the number of Democrats who follow thiem.\n",
    "        candidate2friends...string-list dict mapping each candidate to their list of friends.\n",
    "    Returns:\n",
    "        A list of (string, int) pairs, one per Republican candidate, indicating the number\n",
    "        of friends the Republican has that are also followed by at least one Democrat.\n",
    "    \"\"\"\n",
    "    # TODO\n",
    "    score = []\n",
    "    for rep in republicans:\n",
    "        count = 0\n",
    "        \n",
    "        for i in range(len(candidate2friends[rep])):\n",
    "            for dem in democrat_counts:\n",
    "                if (candidate2friends[rep][i] == dem):\n",
    "                    count = count+1\n",
    "        score.append([rep,count])\n",
    "    \n",
    "    return score\n",
    "    \n",
    "republican_scores = score_republicans(republicans, democrat_counts, candidate2friends)\n",
    "print 'How many second-degree Democratic friends does each Republican have?'\n",
    "print '\\n'.join('%20s %d' % (x[0], x[1]) for x in sorted(republican_scores, key=lambda x: x[1], reverse=True))"
   ]
  },
  {
   "cell_type": "code",
   "execution_count": null,
   "metadata": {
    "collapsed": false
   },
   "outputs": [],
   "source": [
    "def create_graph(candidate2friends, friend_counts):\n",
    "    \"\"\" Create a networkx DiGraph, adding each candidate/friend as a node. \n",
    "        Note: while all candidates should be added to the graph,\n",
    "        only add friends for which friend_counts[friend] > 1. (This is to reduce clutter.)\n",
    "    Args:\n",
    "      candidate2friends: dict mapping each candidate to the list of friends\n",
    "      friend_counts\n",
    "    Returns:\n",
    "      A networkx DiGraph\n",
    "    \"\"\"\n",
    "    # TODO\n",
    "    \n",
    "    Graph =nx.DiGraph()\n",
    "    for i in candidate2friends:\n",
    "        Graph.add_node(i)\n",
    "        \n",
    "        temp_list = []\n",
    "           \n",
    "        for j in range(len(candidate2friends[i])):\n",
    "            if(friend_counts[candidate2friends[i][j]]>1):\n",
    "                Graph.add_edge(i,candidate2friends[i][j])\n",
    "\n",
    "    return Graph\n",
    "            \n",
    "\n",
    "graph = create_graph(candidate2friends, friend_counts)\n",
    "print('graph has %s nodes and %s edges' % (len(graph.nodes()), len(graph.edges())))\n"
   ]
  },
  {
   "cell_type": "code",
   "execution_count": null,
   "metadata": {
    "collapsed": false
   },
   "outputs": [],
   "source": [
    "def get_color(name, republicans, democrats):\n",
    "    if name in republicans:\n",
    "        return 'r'\n",
    "    elif name in democrats:\n",
    "        return 'b'\n",
    "    else:\n",
    "        return 'w'\n",
    "\n",
    "def draw_network(graph, republicans, democrats, candidate2friends, friend_counts):\n",
    "    colors = [get_color(name, republicans, democrats) for name in graph.nodes()]\n",
    "    labels = {n: n if n in candidate2friends or friend_counts[n] > 3 else '' for n in graph.nodes()}\n",
    "    plt.figure(figsize=(12,12))\n",
    "    nx.draw_networkx(graph, node_color=colors,\n",
    "                     labels=labels, alpha=.5, width=.1,\n",
    "                     node_size=100)\n",
    "    plt.axis(\"off\")\n",
    "    plt.show()\n",
    "    \n",
    "draw_network(graph, republicans, democrats, candidate2friends, friend_counts)"
   ]
  },
  {
   "cell_type": "code",
   "execution_count": null,
   "metadata": {
    "collapsed": false
   },
   "outputs": [],
   "source": [
    "# This will write some information to a text file, which we'll use to help grading.\n",
    "# Be sure to run this code once at the end and check the resulting file (output.txt) into Github.\n",
    "import json\n",
    "outf = open('output.txt', 'wt')\n",
    "json.dump({'candidates': sorted(candidates),\n",
    "            'republicans': sorted(republicans),\n",
    "            'democrats': sorted(democrats),\n",
    "            'republican_counts': sorted(count_friends({k: v for k, v in candidate2friends.items() if k in republicans}).most_common(10)),\n",
    "            'democrat_counts': sorted(count_friends({k: v for k, v in candidate2friends.items() if k in democrats}).most_common(10)),\n",
    "            'num_nodes': len(graph.nodes()),\n",
    "            'num_edges': len(graph.edges()),\n",
    "            'republican_scores': sorted(republican_scores),\n",
    "          }, outf, indent=2, sort_keys=True)\n",
    "outf.close()\n"
   ]
  },
  {
   "cell_type": "code",
   "execution_count": null,
   "metadata": {
    "collapsed": true
   },
   "outputs": [],
   "source": []
  }
 ],
 "metadata": {
  "kernelspec": {
   "display_name": "Python 2",
   "language": "python",
   "name": "python2"
  },
  "language_info": {
   "codemirror_mode": {
    "name": "ipython",
    "version": 2
   },
   "file_extension": ".py",
   "mimetype": "text/x-python",
   "name": "python",
   "nbconvert_exporter": "python",
   "pygments_lexer": "ipython2",
   "version": "2.7.10"
  }
 },
 "nbformat": 4,
 "nbformat_minor": 0
}
